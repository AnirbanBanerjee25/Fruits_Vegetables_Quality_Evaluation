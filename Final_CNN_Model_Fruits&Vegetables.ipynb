{
 "cells": [
  {
   "cell_type": "code",
   "execution_count": 3,
   "id": "abd73eb4",
   "metadata": {},
   "outputs": [
    {
     "name": "stdout",
     "output_type": "stream",
     "text": [
      "Found 23619 images belonging to 18 classes.\n",
      "Found 6738 images belonging to 14 classes.\n",
      "Epoch 1/4\n",
      "739/739 [==============================] - 228s 307ms/step - loss: 0.7948 - accuracy: 0.7242 - val_loss: 11.0969 - val_accuracy: 0.2021\n",
      "Epoch 2/4\n",
      "739/739 [==============================] - 183s 248ms/step - loss: 0.3764 - accuracy: 0.8617 - val_loss: 12.1205 - val_accuracy: 0.2386\n",
      "Epoch 3/4\n",
      "739/739 [==============================] - 175s 236ms/step - loss: 0.2729 - accuracy: 0.8974 - val_loss: 13.6790 - val_accuracy: 0.2397\n",
      "Epoch 4/4\n",
      "739/739 [==============================] - 180s 244ms/step - loss: 0.2160 - accuracy: 0.9190 - val_loss: 15.1371 - val_accuracy: 0.2453\n",
      "211/211 [==============================] - 18s 87ms/step - loss: 15.1371 - accuracy: 0.2453\n",
      "Test accuracy: 0.2453250288963318\n"
     ]
    }
   ],
   "source": [
    "import os\n",
    "import numpy as np\n",
    "import tensorflow as tf\n",
    "from tensorflow.keras import layers, models\n",
    "from tensorflow.keras.preprocessing.image import ImageDataGenerator\n",
    "\n",
    "# Define paths to your dataset directories\n",
    "train_dir = r'C:\\Users\\Anirban Banerjee\\Downloads\\archive (1)\\dataset\\Train'\n",
    "test_dir = r'C:\\Users\\Anirban Banerjee\\Downloads\\archive (1)\\dataset\\Test'\n",
    "\n",
    "# Define image dimensions and batch size\n",
    "img_height, img_width = 100, 100\n",
    "batch_size = 32\n",
    "\n",
    "# Use ImageDataGenerator for data augmentation and preprocessing\n",
    "train_datagen = ImageDataGenerator(\n",
    "    rescale=1./255,\n",
    "    shear_range=0.2,\n",
    "    zoom_range=0.2,\n",
    "    horizontal_flip=True\n",
    ")\n",
    "\n",
    "test_datagen = ImageDataGenerator(rescale=1./255)\n",
    "\n",
    "train_generator = train_datagen.flow_from_directory(\n",
    "    train_dir,\n",
    "    target_size=(img_height, img_width),\n",
    "    batch_size=batch_size,\n",
    "    class_mode='sparse'\n",
    ")\n",
    "\n",
    "test_generator = test_datagen.flow_from_directory(\n",
    "    test_dir,\n",
    "    target_size=(img_height, img_width),\n",
    "    batch_size=batch_size,\n",
    "    class_mode='sparse'\n",
    ")\n",
    "\n",
    "# Define your CNN model\n",
    "model = models.Sequential([\n",
    "    layers.Conv2D(32, (3, 3), activation='relu', input_shape=(img_height, img_width, 3)),\n",
    "    layers.MaxPooling2D((2, 2)),\n",
    "    layers.Conv2D(64, (3, 3), activation='relu'),\n",
    "    layers.MaxPooling2D((2, 2)),\n",
    "    layers.Conv2D(128, (3, 3), activation='relu'),\n",
    "    layers.MaxPooling2D((2, 2)),\n",
    "    layers.Flatten(),\n",
    "    layers.Dense(128, activation='relu'),\n",
    "    layers.Dense(18, activation='softmax')  # Assuming 18 classes\n",
    "])\n",
    "\n",
    "# Compile the model\n",
    "model.compile(optimizer='adam',\n",
    "              loss='sparse_categorical_crossentropy',\n",
    "              metrics=['accuracy'])\n",
    "\n",
    "# Train the model\n",
    "history = model.fit(train_generator, epochs=4, validation_data=test_generator)\n",
    "\n",
    "# Evaluate the model\n",
    "test_loss, test_acc = model.evaluate(test_generator)\n",
    "\n",
    "print('Test accuracy:', test_acc)\n",
    "\n"
   ]
  },
  {
   "cell_type": "code",
   "execution_count": 7,
   "id": "9ecfec8b",
   "metadata": {},
   "outputs": [
    {
     "name": "stdout",
     "output_type": "stream",
     "text": [
      "1/1 [==============================] - 0s 23ms/step\n",
      "Predicted class: rottencapsicum\n"
     ]
    }
   ],
   "source": [
    "# Load the image you want to predict\n",
    "from keras.preprocessing import image\n",
    "\n",
    "image_path = r'C:\\Users\\Anirban Banerjee\\Downloads\\capp.jpg'  # Replace with the actual path to your image\n",
    "img = image.load_img(image_path, target_size=(img_height, img_width))\n",
    "img_array = image.img_to_array(img)\n",
    "img_array = np.expand_dims(img_array, axis=0)\n",
    "img_array /= 255.0  # Normalize pixel values\n",
    "\n",
    "# Make predictions\n",
    "predictions = model.predict(img_array)\n",
    "predicted_class = np.argmax(predictions)\n",
    "\n",
    "# Map the predicted class index to the corresponding class label\n",
    "#class_labels = ['rottentomato', 'rottenpotato', 'rottenoranges', 'rottenokra','rottencucumber','rottencapsicum','rottenbittergroud','rottenbanana','rottenapples','freshtomato','freshpotato','freshoranges','freshokra','freshcucumber','freshcapsicum','freshbittergroud','freshbanana','freshapples']  # Replace with your actual class labels\n",
    "class_labels = ['rottentomato', 'freshtomato', 'rottenpotato', 'freshpotato', 'rottenoranges', 'freshoranges', \n",
    "                'rottenokra', 'freshokra', 'rottencucumber', 'freshcucumber', 'rottencapsicum', 'freshcapsicum', \n",
    "                'rottenbittergroud', 'freshbittergroud', 'rottenbanana', 'freshbanana', 'rottenapples', 'freshapples']\n",
    "\n",
    "predicted_label = class_labels[predicted_class]\n",
    "\n",
    "print(\"Predicted class:\", predicted_label)\n"
   ]
  },
  {
   "cell_type": "code",
   "execution_count": 8,
   "id": "d1c4858a",
   "metadata": {},
   "outputs": [
    {
     "name": "stderr",
     "output_type": "stream",
     "text": [
      "C:\\Users\\Anirban Banerjee\\AppData\\Roaming\\Python\\Python310\\site-packages\\keras\\src\\engine\\training.py:3103: UserWarning: You are saving your model as an HDF5 file via `model.save()`. This file format is considered legacy. We recommend using instead the native Keras format, e.g. `model.save('my_model.keras')`.\n",
      "  saving_api.save_model(\n"
     ]
    }
   ],
   "source": [
    "# Save the entire model to a HDF5 file\n",
    "model.save('Quality_Evaluation_Model.h5')\n"
   ]
  },
  {
   "cell_type": "code",
   "execution_count": null,
   "id": "f8f56d1c",
   "metadata": {},
   "outputs": [],
   "source": []
  }
 ],
 "metadata": {
  "kernelspec": {
   "display_name": "Python 3 (ipykernel)",
   "language": "python",
   "name": "python3"
  },
  "language_info": {
   "codemirror_mode": {
    "name": "ipython",
    "version": 3
   },
   "file_extension": ".py",
   "mimetype": "text/x-python",
   "name": "python",
   "nbconvert_exporter": "python",
   "pygments_lexer": "ipython3",
   "version": "3.10.11"
  }
 },
 "nbformat": 4,
 "nbformat_minor": 5
}
